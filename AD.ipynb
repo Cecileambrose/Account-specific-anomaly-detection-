{
  "nbformat": 4,
  "nbformat_minor": 0,
  "metadata": {
    "colab": {
      "provenance": []
    },
    "kernelspec": {
      "name": "python3",
      "display_name": "Python 3"
    },
    "language_info": {
      "name": "python"
    }
  },
  "cells": [
    {
      "cell_type": "code",
      "execution_count": 1,
      "metadata": {
        "id": "klYt8g2JQnak"
      },
      "outputs": [],
      "source": [
        "import pandas as pd\n",
        "import numpy as np\n",
        "from sklearn.ensemble import IsolationForest\n",
        "import seaborn as sns\n",
        "import matplotlib.pyplot as plt"
      ]
    },
    {
      "cell_type": "markdown",
      "source": [
        "Load cleaned dataset"
      ],
      "metadata": {
        "id": "MheOQC8ox0F1"
      }
    },
    {
      "cell_type": "code",
      "source": [
        "df_cleaned = pd.read_csv(\"/content/drive/MyDrive/account_transactions.csv\")"
      ],
      "metadata": {
        "id": "kgIAaNfwQ2Qs"
      },
      "execution_count": 2,
      "outputs": []
    },
    {
      "cell_type": "markdown",
      "source": [
        "Convert bookingDateTime to datetime format"
      ],
      "metadata": {
        "id": "Wz4zRVOHx3rM"
      }
    },
    {
      "cell_type": "code",
      "source": [
        "df_cleaned[\"bookingDateTime\"] = pd.to_datetime(df_cleaned[\"bookingDateTime\"], errors=\"coerce\")"
      ],
      "metadata": {
        "id": "zs5rNVyPQ2NU"
      },
      "execution_count": 5,
      "outputs": []
    },
    {
      "cell_type": "markdown",
      "source": [
        "Drop columns with excessive missing values"
      ],
      "metadata": {
        "id": "huuVnmg6x8fA"
      }
    },
    {
      "cell_type": "code",
      "source": [
        "df_cleaned = df_cleaned.drop(columns=[\"merchant_logo\", \"merchant_merchantCategoryCode\"], errors='ignore')"
      ],
      "metadata": {
        "id": "PJHfmJDrQ2Km"
      },
      "execution_count": 7,
      "outputs": []
    },
    {
      "cell_type": "markdown",
      "source": [
        "Fill missing values in 'merchant_name' with 'Unknown'"
      ],
      "metadata": {
        "id": "P5cpXVAvyAbL"
      }
    },
    {
      "cell_type": "code",
      "source": [
        "df_cleaned[\"merchant_name\"].fillna(\"Unknown\", inplace=True)"
      ],
      "metadata": {
        "colab": {
          "base_uri": "https://localhost:8080/"
        },
        "id": "9TSVY3V7Q2Ik",
        "outputId": "b48d3332-8c98-447b-94ff-a323842008f2"
      },
      "execution_count": 8,
      "outputs": [
        {
          "output_type": "stream",
          "name": "stderr",
          "text": [
            "<ipython-input-8-5045e9aaa93c>:2: FutureWarning: A value is trying to be set on a copy of a DataFrame or Series through chained assignment using an inplace method.\n",
            "The behavior will change in pandas 3.0. This inplace method will never work because the intermediate object on which we are setting values always behaves as a copy.\n",
            "\n",
            "For example, when doing 'df[col].method(value, inplace=True)', try using 'df.method({col: value}, inplace=True)' or df[col] = df[col].method(value) instead, to perform the operation inplace on the original object.\n",
            "\n",
            "\n",
            "  df_cleaned[\"merchant_name\"].fillna(\"Unknown\", inplace=True)\n"
          ]
        }
      ]
    },
    {
      "cell_type": "markdown",
      "source": [
        "Encode categorical variables"
      ],
      "metadata": {
        "id": "SLIa6a8lyEPf"
      }
    },
    {
      "cell_type": "code",
      "source": [
        "from sklearn.preprocessing import LabelEncoder\n",
        "label_encoders = {}\n",
        "categorical_cols = [\"accountProductType\", \"providerId\", \"transactionDescription\",\n",
        "                    \"category_group\", \"category_name\", \"creditDebitIndicator\", \"merchant_name\"]\n",
        "\n",
        "for col in categorical_cols:\n",
        "    le = LabelEncoder()\n",
        "    df_cleaned[col] = le.fit_transform(df_cleaned[col])\n",
        "    label_encoders[col] = le"
      ],
      "metadata": {
        "id": "Vt9mNdAVQ2F8"
      },
      "execution_count": 10,
      "outputs": []
    },
    {
      "cell_type": "markdown",
      "source": [
        "Extract useful time-based features"
      ],
      "metadata": {
        "id": "WkfZaaBXyJGv"
      }
    },
    {
      "cell_type": "code",
      "source": [
        "df_cleaned[\"booking_year\"] = df_cleaned[\"bookingDateTime\"].dt.year\n",
        "df_cleaned[\"booking_month\"] = df_cleaned[\"bookingDateTime\"].dt.month\n",
        "df_cleaned[\"booking_day\"] = df_cleaned[\"bookingDateTime\"].dt.day\n",
        "df_cleaned[\"booking_weekday\"] = df_cleaned[\"bookingDateTime\"].dt.weekday"
      ],
      "metadata": {
        "id": "aUxwioG3Q2C7"
      },
      "execution_count": 11,
      "outputs": []
    },
    {
      "cell_type": "markdown",
      "source": [
        "Log transform 'amount_value' to reduce impact of extreme values"
      ],
      "metadata": {
        "id": "90ImNpQZyMYb"
      }
    },
    {
      "cell_type": "code",
      "source": [
        "df_cleaned[\"amount_value\"] = df_cleaned[\"amount_value\"].apply(lambda x: np.log1p(x))"
      ],
      "metadata": {
        "id": "_VAn8zE3Q2Af"
      },
      "execution_count": 12,
      "outputs": []
    },
    {
      "cell_type": "markdown",
      "source": [
        "Drop original bookingDateTime column"
      ],
      "metadata": {
        "id": "yLW1hOWAyP0c"
      }
    },
    {
      "cell_type": "code",
      "source": [
        "df_cleaned.drop(columns=[\"bookingDateTime\"], inplace=True)"
      ],
      "metadata": {
        "id": "kJoIWUj6Udfj"
      },
      "execution_count": 13,
      "outputs": []
    },
    {
      "cell_type": "markdown",
      "source": [
        "Initialize anomaly flag column"
      ],
      "metadata": {
        "id": "Pc63KsLDz2jR"
      }
    },
    {
      "cell_type": "code",
      "source": [
        "df_cleaned[\"anomaly_flag\"] = 0"
      ],
      "metadata": {
        "id": "tJWmcnTiUddc"
      },
      "execution_count": 14,
      "outputs": []
    },
    {
      "cell_type": "markdown",
      "source": [
        "Train an Isolation Forest for each account individually"
      ],
      "metadata": {
        "id": "xJsAwLMQ0BLc"
      }
    },
    {
      "cell_type": "code",
      "source": [
        "account_anomalies = {}\n",
        "\n",
        "for account_id, group in df_cleaned.groupby(\"accountId\"):\n",
        "    if len(group) < 10:\n",
        "        continue\n",
        "\n",
        "    features = [\"amount_value\", \"booking_year\", \"booking_month\", \"booking_day\",\n",
        "                \"booking_weekday\", \"category_name\", \"creditDebitIndicator\", \"merchant_name\"]\n",
        "\n",
        "    X = group[features]\n",
        "\n",
        "    iso_forest = IsolationForest(n_estimators=100, contamination=0.05, random_state=42)\n",
        "    group[\"anomaly_flag\"] = iso_forest.fit_predict(X)\n",
        "\n",
        "    # Convert -1 to 1 (anomaly) and 1 to 0 (normal)\n",
        "    group[\"anomaly_flag\"] = group[\"anomaly_flag\"].apply(lambda x: 1 if x == -1 else 0)\n",
        "\n",
        "    account_anomalies[account_id] = group[group[\"anomaly_flag\"] == 1]\n",
        "\n",
        "    df_cleaned.loc[group.index, \"anomaly_flag\"] = group[\"anomaly_flag\"]"
      ],
      "metadata": {
        "id": "e2IU9yVRUdbo"
      },
      "execution_count": 15,
      "outputs": []
    },
    {
      "cell_type": "markdown",
      "source": [
        "Save flagged transactions"
      ],
      "metadata": {
        "id": "0WaKKcP60J3L"
      }
    },
    {
      "cell_type": "code",
      "source": [
        "df_cleaned.to_csv(\"account_specific_flagged_transactions.csv\", index=False)"
      ],
      "metadata": {
        "id": "GaDQ-679UdY_"
      },
      "execution_count": 16,
      "outputs": []
    },
    {
      "cell_type": "code",
      "source": [
        "df_cleaned.head()"
      ],
      "metadata": {
        "colab": {
          "base_uri": "https://localhost:8080/",
          "height": 487
        },
        "id": "Ebjs-TSSUj4g",
        "outputId": "1789bd86-ce38-44f1-c1c4-ec2ea3ae9426"
      },
      "execution_count": 17,
      "outputs": [
        {
          "output_type": "execute_result",
          "data": {
            "text/plain": [
              "                          transactionId                             accountId  \\\n",
              "0  8934c440-fd1b-4f4a-9b53-7a00d7f0a30d  5053cbd4-a32b-301d-b17f-aeb7ebc637aa   \n",
              "1  31f71281-b59c-4a14-92d1-4d96ba212ac7  5053cbd4-a32b-301d-b17f-aeb7ebc637aa   \n",
              "2  dd330de8-45e7-40ca-a012-d8078e7a87b6  5053cbd4-a32b-301d-b17f-aeb7ebc637aa   \n",
              "3  f135bf3c-04c2-45c6-b4fb-185cee532cd7  5053cbd4-a32b-301d-b17f-aeb7ebc637aa   \n",
              "4  f1265286-37b1-417d-9757-deead4d2e934  5053cbd4-a32b-301d-b17f-aeb7ebc637aa   \n",
              "\n",
              "   accountProductType  providerId  transactionDescription  category_group  \\\n",
              "0                   0           0                      10               2   \n",
              "1                   0           0                      10               2   \n",
              "2                   0           0                     122               1   \n",
              "3                   0           0                      53               1   \n",
              "4                   0           0                      53               1   \n",
              "\n",
              "   category_name                                      category_icon  \\\n",
              "0             17  https://tg-merchants-prod.tarabut.com/category...   \n",
              "1             17  https://tg-merchants-prod.tarabut.com/category...   \n",
              "2             12  https://tg-merchants-prod.tarabut.com/category...   \n",
              "3             12  https://tg-merchants-prod.tarabut.com/category...   \n",
              "4             12  https://tg-merchants-prod.tarabut.com/category...   \n",
              "\n",
              "   merchant_name  creditDebitIndicator  amount_value amount_currency  \\\n",
              "0             56                     1      5.017280             SAR   \n",
              "1             56                     1      5.017280             SAR   \n",
              "2             56                     0      2.917771             SAR   \n",
              "3             56                     0      0.009950             SAR   \n",
              "4             56                     0      0.009950             SAR   \n",
              "\n",
              "   booking_year  booking_month  booking_day  booking_weekday  anomaly_flag  \n",
              "0          2024              5           21                1             1  \n",
              "1          2024              5           21                1             1  \n",
              "2          2024              5            5                6             0  \n",
              "3          2024              8            4                6             1  \n",
              "4          2024              8            4                6             1  "
            ],
            "text/html": [
              "\n",
              "  <div id=\"df-f3f75208-9c0d-4dc0-b605-ee6ec07afc70\" class=\"colab-df-container\">\n",
              "    <div>\n",
              "<style scoped>\n",
              "    .dataframe tbody tr th:only-of-type {\n",
              "        vertical-align: middle;\n",
              "    }\n",
              "\n",
              "    .dataframe tbody tr th {\n",
              "        vertical-align: top;\n",
              "    }\n",
              "\n",
              "    .dataframe thead th {\n",
              "        text-align: right;\n",
              "    }\n",
              "</style>\n",
              "<table border=\"1\" class=\"dataframe\">\n",
              "  <thead>\n",
              "    <tr style=\"text-align: right;\">\n",
              "      <th></th>\n",
              "      <th>transactionId</th>\n",
              "      <th>accountId</th>\n",
              "      <th>accountProductType</th>\n",
              "      <th>providerId</th>\n",
              "      <th>transactionDescription</th>\n",
              "      <th>category_group</th>\n",
              "      <th>category_name</th>\n",
              "      <th>category_icon</th>\n",
              "      <th>merchant_name</th>\n",
              "      <th>creditDebitIndicator</th>\n",
              "      <th>amount_value</th>\n",
              "      <th>amount_currency</th>\n",
              "      <th>booking_year</th>\n",
              "      <th>booking_month</th>\n",
              "      <th>booking_day</th>\n",
              "      <th>booking_weekday</th>\n",
              "      <th>anomaly_flag</th>\n",
              "    </tr>\n",
              "  </thead>\n",
              "  <tbody>\n",
              "    <tr>\n",
              "      <th>0</th>\n",
              "      <td>8934c440-fd1b-4f4a-9b53-7a00d7f0a30d</td>\n",
              "      <td>5053cbd4-a32b-301d-b17f-aeb7ebc637aa</td>\n",
              "      <td>0</td>\n",
              "      <td>0</td>\n",
              "      <td>10</td>\n",
              "      <td>2</td>\n",
              "      <td>17</td>\n",
              "      <td>https://tg-merchants-prod.tarabut.com/category...</td>\n",
              "      <td>56</td>\n",
              "      <td>1</td>\n",
              "      <td>5.017280</td>\n",
              "      <td>SAR</td>\n",
              "      <td>2024</td>\n",
              "      <td>5</td>\n",
              "      <td>21</td>\n",
              "      <td>1</td>\n",
              "      <td>1</td>\n",
              "    </tr>\n",
              "    <tr>\n",
              "      <th>1</th>\n",
              "      <td>31f71281-b59c-4a14-92d1-4d96ba212ac7</td>\n",
              "      <td>5053cbd4-a32b-301d-b17f-aeb7ebc637aa</td>\n",
              "      <td>0</td>\n",
              "      <td>0</td>\n",
              "      <td>10</td>\n",
              "      <td>2</td>\n",
              "      <td>17</td>\n",
              "      <td>https://tg-merchants-prod.tarabut.com/category...</td>\n",
              "      <td>56</td>\n",
              "      <td>1</td>\n",
              "      <td>5.017280</td>\n",
              "      <td>SAR</td>\n",
              "      <td>2024</td>\n",
              "      <td>5</td>\n",
              "      <td>21</td>\n",
              "      <td>1</td>\n",
              "      <td>1</td>\n",
              "    </tr>\n",
              "    <tr>\n",
              "      <th>2</th>\n",
              "      <td>dd330de8-45e7-40ca-a012-d8078e7a87b6</td>\n",
              "      <td>5053cbd4-a32b-301d-b17f-aeb7ebc637aa</td>\n",
              "      <td>0</td>\n",
              "      <td>0</td>\n",
              "      <td>122</td>\n",
              "      <td>1</td>\n",
              "      <td>12</td>\n",
              "      <td>https://tg-merchants-prod.tarabut.com/category...</td>\n",
              "      <td>56</td>\n",
              "      <td>0</td>\n",
              "      <td>2.917771</td>\n",
              "      <td>SAR</td>\n",
              "      <td>2024</td>\n",
              "      <td>5</td>\n",
              "      <td>5</td>\n",
              "      <td>6</td>\n",
              "      <td>0</td>\n",
              "    </tr>\n",
              "    <tr>\n",
              "      <th>3</th>\n",
              "      <td>f135bf3c-04c2-45c6-b4fb-185cee532cd7</td>\n",
              "      <td>5053cbd4-a32b-301d-b17f-aeb7ebc637aa</td>\n",
              "      <td>0</td>\n",
              "      <td>0</td>\n",
              "      <td>53</td>\n",
              "      <td>1</td>\n",
              "      <td>12</td>\n",
              "      <td>https://tg-merchants-prod.tarabut.com/category...</td>\n",
              "      <td>56</td>\n",
              "      <td>0</td>\n",
              "      <td>0.009950</td>\n",
              "      <td>SAR</td>\n",
              "      <td>2024</td>\n",
              "      <td>8</td>\n",
              "      <td>4</td>\n",
              "      <td>6</td>\n",
              "      <td>1</td>\n",
              "    </tr>\n",
              "    <tr>\n",
              "      <th>4</th>\n",
              "      <td>f1265286-37b1-417d-9757-deead4d2e934</td>\n",
              "      <td>5053cbd4-a32b-301d-b17f-aeb7ebc637aa</td>\n",
              "      <td>0</td>\n",
              "      <td>0</td>\n",
              "      <td>53</td>\n",
              "      <td>1</td>\n",
              "      <td>12</td>\n",
              "      <td>https://tg-merchants-prod.tarabut.com/category...</td>\n",
              "      <td>56</td>\n",
              "      <td>0</td>\n",
              "      <td>0.009950</td>\n",
              "      <td>SAR</td>\n",
              "      <td>2024</td>\n",
              "      <td>8</td>\n",
              "      <td>4</td>\n",
              "      <td>6</td>\n",
              "      <td>1</td>\n",
              "    </tr>\n",
              "  </tbody>\n",
              "</table>\n",
              "</div>\n",
              "    <div class=\"colab-df-buttons\">\n",
              "\n",
              "  <div class=\"colab-df-container\">\n",
              "    <button class=\"colab-df-convert\" onclick=\"convertToInteractive('df-f3f75208-9c0d-4dc0-b605-ee6ec07afc70')\"\n",
              "            title=\"Convert this dataframe to an interactive table.\"\n",
              "            style=\"display:none;\">\n",
              "\n",
              "  <svg xmlns=\"http://www.w3.org/2000/svg\" height=\"24px\" viewBox=\"0 -960 960 960\">\n",
              "    <path d=\"M120-120v-720h720v720H120Zm60-500h600v-160H180v160Zm220 220h160v-160H400v160Zm0 220h160v-160H400v160ZM180-400h160v-160H180v160Zm440 0h160v-160H620v160ZM180-180h160v-160H180v160Zm440 0h160v-160H620v160Z\"/>\n",
              "  </svg>\n",
              "    </button>\n",
              "\n",
              "  <style>\n",
              "    .colab-df-container {\n",
              "      display:flex;\n",
              "      gap: 12px;\n",
              "    }\n",
              "\n",
              "    .colab-df-convert {\n",
              "      background-color: #E8F0FE;\n",
              "      border: none;\n",
              "      border-radius: 50%;\n",
              "      cursor: pointer;\n",
              "      display: none;\n",
              "      fill: #1967D2;\n",
              "      height: 32px;\n",
              "      padding: 0 0 0 0;\n",
              "      width: 32px;\n",
              "    }\n",
              "\n",
              "    .colab-df-convert:hover {\n",
              "      background-color: #E2EBFA;\n",
              "      box-shadow: 0px 1px 2px rgba(60, 64, 67, 0.3), 0px 1px 3px 1px rgba(60, 64, 67, 0.15);\n",
              "      fill: #174EA6;\n",
              "    }\n",
              "\n",
              "    .colab-df-buttons div {\n",
              "      margin-bottom: 4px;\n",
              "    }\n",
              "\n",
              "    [theme=dark] .colab-df-convert {\n",
              "      background-color: #3B4455;\n",
              "      fill: #D2E3FC;\n",
              "    }\n",
              "\n",
              "    [theme=dark] .colab-df-convert:hover {\n",
              "      background-color: #434B5C;\n",
              "      box-shadow: 0px 1px 3px 1px rgba(0, 0, 0, 0.15);\n",
              "      filter: drop-shadow(0px 1px 2px rgba(0, 0, 0, 0.3));\n",
              "      fill: #FFFFFF;\n",
              "    }\n",
              "  </style>\n",
              "\n",
              "    <script>\n",
              "      const buttonEl =\n",
              "        document.querySelector('#df-f3f75208-9c0d-4dc0-b605-ee6ec07afc70 button.colab-df-convert');\n",
              "      buttonEl.style.display =\n",
              "        google.colab.kernel.accessAllowed ? 'block' : 'none';\n",
              "\n",
              "      async function convertToInteractive(key) {\n",
              "        const element = document.querySelector('#df-f3f75208-9c0d-4dc0-b605-ee6ec07afc70');\n",
              "        const dataTable =\n",
              "          await google.colab.kernel.invokeFunction('convertToInteractive',\n",
              "                                                    [key], {});\n",
              "        if (!dataTable) return;\n",
              "\n",
              "        const docLinkHtml = 'Like what you see? Visit the ' +\n",
              "          '<a target=\"_blank\" href=https://colab.research.google.com/notebooks/data_table.ipynb>data table notebook</a>'\n",
              "          + ' to learn more about interactive tables.';\n",
              "        element.innerHTML = '';\n",
              "        dataTable['output_type'] = 'display_data';\n",
              "        await google.colab.output.renderOutput(dataTable, element);\n",
              "        const docLink = document.createElement('div');\n",
              "        docLink.innerHTML = docLinkHtml;\n",
              "        element.appendChild(docLink);\n",
              "      }\n",
              "    </script>\n",
              "  </div>\n",
              "\n",
              "\n",
              "<div id=\"df-85cf9221-742e-4dee-9d21-8f00af533316\">\n",
              "  <button class=\"colab-df-quickchart\" onclick=\"quickchart('df-85cf9221-742e-4dee-9d21-8f00af533316')\"\n",
              "            title=\"Suggest charts\"\n",
              "            style=\"display:none;\">\n",
              "\n",
              "<svg xmlns=\"http://www.w3.org/2000/svg\" height=\"24px\"viewBox=\"0 0 24 24\"\n",
              "     width=\"24px\">\n",
              "    <g>\n",
              "        <path d=\"M19 3H5c-1.1 0-2 .9-2 2v14c0 1.1.9 2 2 2h14c1.1 0 2-.9 2-2V5c0-1.1-.9-2-2-2zM9 17H7v-7h2v7zm4 0h-2V7h2v10zm4 0h-2v-4h2v4z\"/>\n",
              "    </g>\n",
              "</svg>\n",
              "  </button>\n",
              "\n",
              "<style>\n",
              "  .colab-df-quickchart {\n",
              "      --bg-color: #E8F0FE;\n",
              "      --fill-color: #1967D2;\n",
              "      --hover-bg-color: #E2EBFA;\n",
              "      --hover-fill-color: #174EA6;\n",
              "      --disabled-fill-color: #AAA;\n",
              "      --disabled-bg-color: #DDD;\n",
              "  }\n",
              "\n",
              "  [theme=dark] .colab-df-quickchart {\n",
              "      --bg-color: #3B4455;\n",
              "      --fill-color: #D2E3FC;\n",
              "      --hover-bg-color: #434B5C;\n",
              "      --hover-fill-color: #FFFFFF;\n",
              "      --disabled-bg-color: #3B4455;\n",
              "      --disabled-fill-color: #666;\n",
              "  }\n",
              "\n",
              "  .colab-df-quickchart {\n",
              "    background-color: var(--bg-color);\n",
              "    border: none;\n",
              "    border-radius: 50%;\n",
              "    cursor: pointer;\n",
              "    display: none;\n",
              "    fill: var(--fill-color);\n",
              "    height: 32px;\n",
              "    padding: 0;\n",
              "    width: 32px;\n",
              "  }\n",
              "\n",
              "  .colab-df-quickchart:hover {\n",
              "    background-color: var(--hover-bg-color);\n",
              "    box-shadow: 0 1px 2px rgba(60, 64, 67, 0.3), 0 1px 3px 1px rgba(60, 64, 67, 0.15);\n",
              "    fill: var(--button-hover-fill-color);\n",
              "  }\n",
              "\n",
              "  .colab-df-quickchart-complete:disabled,\n",
              "  .colab-df-quickchart-complete:disabled:hover {\n",
              "    background-color: var(--disabled-bg-color);\n",
              "    fill: var(--disabled-fill-color);\n",
              "    box-shadow: none;\n",
              "  }\n",
              "\n",
              "  .colab-df-spinner {\n",
              "    border: 2px solid var(--fill-color);\n",
              "    border-color: transparent;\n",
              "    border-bottom-color: var(--fill-color);\n",
              "    animation:\n",
              "      spin 1s steps(1) infinite;\n",
              "  }\n",
              "\n",
              "  @keyframes spin {\n",
              "    0% {\n",
              "      border-color: transparent;\n",
              "      border-bottom-color: var(--fill-color);\n",
              "      border-left-color: var(--fill-color);\n",
              "    }\n",
              "    20% {\n",
              "      border-color: transparent;\n",
              "      border-left-color: var(--fill-color);\n",
              "      border-top-color: var(--fill-color);\n",
              "    }\n",
              "    30% {\n",
              "      border-color: transparent;\n",
              "      border-left-color: var(--fill-color);\n",
              "      border-top-color: var(--fill-color);\n",
              "      border-right-color: var(--fill-color);\n",
              "    }\n",
              "    40% {\n",
              "      border-color: transparent;\n",
              "      border-right-color: var(--fill-color);\n",
              "      border-top-color: var(--fill-color);\n",
              "    }\n",
              "    60% {\n",
              "      border-color: transparent;\n",
              "      border-right-color: var(--fill-color);\n",
              "    }\n",
              "    80% {\n",
              "      border-color: transparent;\n",
              "      border-right-color: var(--fill-color);\n",
              "      border-bottom-color: var(--fill-color);\n",
              "    }\n",
              "    90% {\n",
              "      border-color: transparent;\n",
              "      border-bottom-color: var(--fill-color);\n",
              "    }\n",
              "  }\n",
              "</style>\n",
              "\n",
              "  <script>\n",
              "    async function quickchart(key) {\n",
              "      const quickchartButtonEl =\n",
              "        document.querySelector('#' + key + ' button');\n",
              "      quickchartButtonEl.disabled = true;  // To prevent multiple clicks.\n",
              "      quickchartButtonEl.classList.add('colab-df-spinner');\n",
              "      try {\n",
              "        const charts = await google.colab.kernel.invokeFunction(\n",
              "            'suggestCharts', [key], {});\n",
              "      } catch (error) {\n",
              "        console.error('Error during call to suggestCharts:', error);\n",
              "      }\n",
              "      quickchartButtonEl.classList.remove('colab-df-spinner');\n",
              "      quickchartButtonEl.classList.add('colab-df-quickchart-complete');\n",
              "    }\n",
              "    (() => {\n",
              "      let quickchartButtonEl =\n",
              "        document.querySelector('#df-85cf9221-742e-4dee-9d21-8f00af533316 button');\n",
              "      quickchartButtonEl.style.display =\n",
              "        google.colab.kernel.accessAllowed ? 'block' : 'none';\n",
              "    })();\n",
              "  </script>\n",
              "</div>\n",
              "\n",
              "    </div>\n",
              "  </div>\n"
            ],
            "application/vnd.google.colaboratory.intrinsic+json": {
              "type": "dataframe",
              "variable_name": "df_cleaned",
              "summary": "{\n  \"name\": \"df_cleaned\",\n  \"rows\": 477,\n  \"fields\": [\n    {\n      \"column\": \"transactionId\",\n      \"properties\": {\n        \"dtype\": \"string\",\n        \"num_unique_values\": 477,\n        \"samples\": [\n          \"0ccca337-5642-4df2-9100-c841065934fd\",\n          \"fee064b0-0e1a-4c5e-b4d4-340b2311d0e8\",\n          \"14fa42c3-b982-4665-b3ff-8e244cc276c1\"\n        ],\n        \"semantic_type\": \"\",\n        \"description\": \"\"\n      }\n    },\n    {\n      \"column\": \"accountId\",\n      \"properties\": {\n        \"dtype\": \"category\",\n        \"num_unique_values\": 6,\n        \"samples\": [\n          \"5053cbd4-a32b-301d-b17f-aeb7ebc637aa\",\n          \"6549b0dd-27a1-3f5b-ab2a-9a83d8245d16\",\n          \"ee229694-9a70-35da-ab0c-198fce6fe639\"\n        ],\n        \"semantic_type\": \"\",\n        \"description\": \"\"\n      }\n    },\n    {\n      \"column\": \"accountProductType\",\n      \"properties\": {\n        \"dtype\": \"number\",\n        \"std\": 0,\n        \"min\": 0,\n        \"max\": 2,\n        \"num_unique_values\": 3,\n        \"samples\": [\n          0,\n          2,\n          1\n        ],\n        \"semantic_type\": \"\",\n        \"description\": \"\"\n      }\n    },\n    {\n      \"column\": \"providerId\",\n      \"properties\": {\n        \"dtype\": \"number\",\n        \"std\": 0,\n        \"min\": 0,\n        \"max\": 0,\n        \"num_unique_values\": 1,\n        \"samples\": [\n          0\n        ],\n        \"semantic_type\": \"\",\n        \"description\": \"\"\n      }\n    },\n    {\n      \"column\": \"transactionDescription\",\n      \"properties\": {\n        \"dtype\": \"number\",\n        \"std\": 44,\n        \"min\": 0,\n        \"max\": 149,\n        \"num_unique_values\": 150,\n        \"samples\": [\n          93\n        ],\n        \"semantic_type\": \"\",\n        \"description\": \"\"\n      }\n    },\n    {\n      \"column\": \"category_group\",\n      \"properties\": {\n        \"dtype\": \"number\",\n        \"std\": 0,\n        \"min\": 0,\n        \"max\": 2,\n        \"num_unique_values\": 3,\n        \"samples\": [\n          2\n        ],\n        \"semantic_type\": \"\",\n        \"description\": \"\"\n      }\n    },\n    {\n      \"column\": \"category_name\",\n      \"properties\": {\n        \"dtype\": \"number\",\n        \"std\": 3,\n        \"min\": 0,\n        \"max\": 18,\n        \"num_unique_values\": 19,\n        \"samples\": [\n          17\n        ],\n        \"semantic_type\": \"\",\n        \"description\": \"\"\n      }\n    },\n    {\n      \"column\": \"category_icon\",\n      \"properties\": {\n        \"dtype\": \"category\",\n        \"num_unique_values\": 19,\n        \"samples\": [\n          \"https://tg-merchants-prod.tarabut.com/category/OTHER_TRANSFERS.svg\"\n        ],\n        \"semantic_type\": \"\",\n        \"description\": \"\"\n      }\n    },\n    {\n      \"column\": \"merchant_name\",\n      \"properties\": {\n        \"dtype\": \"number\",\n        \"std\": 18,\n        \"min\": 0,\n        \"max\": 57,\n        \"num_unique_values\": 58,\n        \"samples\": [\n          56\n        ],\n        \"semantic_type\": \"\",\n        \"description\": \"\"\n      }\n    },\n    {\n      \"column\": \"creditDebitIndicator\",\n      \"properties\": {\n        \"dtype\": \"number\",\n        \"std\": 0,\n        \"min\": 0,\n        \"max\": 1,\n        \"num_unique_values\": 2,\n        \"samples\": [\n          0\n        ],\n        \"semantic_type\": \"\",\n        \"description\": \"\"\n      }\n    },\n    {\n      \"column\": \"amount_value\",\n      \"properties\": {\n        \"dtype\": \"number\",\n        \"std\": 2.0761975570587055,\n        \"min\": 0.009950330853168083,\n        \"max\": 9.61587214452889,\n        \"num_unique_values\": 216,\n        \"samples\": [\n          4.119037174812473\n        ],\n        \"semantic_type\": \"\",\n        \"description\": \"\"\n      }\n    },\n    {\n      \"column\": \"amount_currency\",\n      \"properties\": {\n        \"dtype\": \"category\",\n        \"num_unique_values\": 1,\n        \"samples\": [\n          \"SAR\"\n        ],\n        \"semantic_type\": \"\",\n        \"description\": \"\"\n      }\n    },\n    {\n      \"column\": \"booking_year\",\n      \"properties\": {\n        \"dtype\": \"int32\",\n        \"num_unique_values\": 1,\n        \"samples\": [\n          2024\n        ],\n        \"semantic_type\": \"\",\n        \"description\": \"\"\n      }\n    },\n    {\n      \"column\": \"booking_month\",\n      \"properties\": {\n        \"dtype\": \"int32\",\n        \"num_unique_values\": 12,\n        \"samples\": [\n          2\n        ],\n        \"semantic_type\": \"\",\n        \"description\": \"\"\n      }\n    },\n    {\n      \"column\": \"booking_day\",\n      \"properties\": {\n        \"dtype\": \"int32\",\n        \"num_unique_values\": 31,\n        \"samples\": [\n          11\n        ],\n        \"semantic_type\": \"\",\n        \"description\": \"\"\n      }\n    },\n    {\n      \"column\": \"booking_weekday\",\n      \"properties\": {\n        \"dtype\": \"int32\",\n        \"num_unique_values\": 7,\n        \"samples\": [\n          1\n        ],\n        \"semantic_type\": \"\",\n        \"description\": \"\"\n      }\n    },\n    {\n      \"column\": \"anomaly_flag\",\n      \"properties\": {\n        \"dtype\": \"number\",\n        \"std\": 0,\n        \"min\": 0,\n        \"max\": 1,\n        \"num_unique_values\": 2,\n        \"samples\": [\n          0\n        ],\n        \"semantic_type\": \"\",\n        \"description\": \"\"\n      }\n    }\n  ]\n}"
            }
          },
          "metadata": {},
          "execution_count": 17
        }
      ]
    },
    {
      "cell_type": "code",
      "source": [
        "df_cleaned[\"accountId\"].unique()"
      ],
      "metadata": {
        "colab": {
          "base_uri": "https://localhost:8080/"
        },
        "id": "o1If82wHUj1G",
        "outputId": "7b81b197-7a96-49f2-fed9-f4fc033b31e8"
      },
      "execution_count": 21,
      "outputs": [
        {
          "output_type": "execute_result",
          "data": {
            "text/plain": [
              "array(['5053cbd4-a32b-301d-b17f-aeb7ebc637aa',\n",
              "       '6549b0dd-27a1-3f5b-ab2a-9a83d8245d16',\n",
              "       '9f556dd9-43ff-3569-b701-357236b21ed9',\n",
              "       'c0df3c2f-b304-31b1-ad67-f5ec726ebf37',\n",
              "       'c5950a78-122e-3fba-b8c7-8d43914bfe92',\n",
              "       'ee229694-9a70-35da-ab0c-198fce6fe639'], dtype=object)"
            ]
          },
          "metadata": {},
          "execution_count": 21
        }
      ]
    },
    {
      "cell_type": "markdown",
      "source": [
        "Count normal (0) and anomaly (1) transactions per account"
      ],
      "metadata": {
        "id": "LBre3XI40Nq8"
      }
    },
    {
      "cell_type": "code",
      "source": [
        "account_summary = df_cleaned.groupby(\"accountId\")[\"anomaly_flag\"].value_counts().unstack(fill_value=0)\n",
        "account_summary.columns = [\"Normal Transactions\", \"Anomalous Transactions\"]\n",
        "\n",
        "print(\"\\n🔹 Total Normal & Anomaly Transactions per Account:\\n\")\n",
        "print(account_summary)"
      ],
      "metadata": {
        "colab": {
          "base_uri": "https://localhost:8080/"
        },
        "id": "RRIMBCpogceR",
        "outputId": "8e3e91ff-4cd9-468a-bac4-8525ebd42ab6"
      },
      "execution_count": 23,
      "outputs": [
        {
          "output_type": "stream",
          "name": "stdout",
          "text": [
            "\n",
            "🔹 Total Normal & Anomaly Transactions per Account:\n",
            "\n",
            "                                      Normal Transactions  \\\n",
            "accountId                                                   \n",
            "5053cbd4-a32b-301d-b17f-aeb7ebc637aa                  193   \n",
            "6549b0dd-27a1-3f5b-ab2a-9a83d8245d16                   88   \n",
            "9f556dd9-43ff-3569-b701-357236b21ed9                   34   \n",
            "c0df3c2f-b304-31b1-ad67-f5ec726ebf37                   14   \n",
            "c5950a78-122e-3fba-b8c7-8d43914bfe92                   14   \n",
            "ee229694-9a70-35da-ab0c-198fce6fe639                  109   \n",
            "\n",
            "                                      Anomalous Transactions  \n",
            "accountId                                                     \n",
            "5053cbd4-a32b-301d-b17f-aeb7ebc637aa                      10  \n",
            "6549b0dd-27a1-3f5b-ab2a-9a83d8245d16                       5  \n",
            "9f556dd9-43ff-3569-b701-357236b21ed9                       2  \n",
            "c0df3c2f-b304-31b1-ad67-f5ec726ebf37                       1  \n",
            "c5950a78-122e-3fba-b8c7-8d43914bfe92                       1  \n",
            "ee229694-9a70-35da-ab0c-198fce6fe639                       6  \n"
          ]
        }
      ]
    },
    {
      "cell_type": "code",
      "source": [],
      "metadata": {
        "id": "iStqGqIyUdVA"
      },
      "execution_count": null,
      "outputs": []
    }
  ]
}